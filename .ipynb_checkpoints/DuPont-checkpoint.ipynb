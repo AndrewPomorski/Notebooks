{
 "cells": [
  {
   "cell_type": "code",
   "execution_count": 127,
   "id": "5814bb23",
   "metadata": {},
   "outputs": [],
   "source": [
    "# https://www.investopedia.com/articles/fundamental-analysis/08/dupont-analysis.asp\n",
    "# DuPont 5 point RoE analysis\n",
    "import pandas as pd \n",
    "import numpy as np"
   ]
  },
  {
   "cell_type": "code",
   "execution_count": 128,
   "id": "82f286a6",
   "metadata": {},
   "outputs": [],
   "source": [
    "def calc_roe(assets, equity, sales, EBIT, EBT, net_income, MUL=1, verbose=False):\n",
    "    leverage = (assets / equity) * MUL\n",
    "    asset_turnover = (sales / assets) * MUL\n",
    "    ebit_margin = (EBIT / sales) * MUL\n",
    "    interest_burden = (EBT / EBIT) * MUL\n",
    "    tax_burden = (net_income / EBT) * MUL\n",
    "    ROE = round((leverage * asset_turnover * ebit_margin * interest_burden * tax_burden) * 100, 2)\n",
    "    if verbose:\n",
    "        print(f\"\\nleverage: {leverage}\\n asset_turnover: {asset_turnover}\\n ebit_margin: {ebit_margin}\\n interest_burden: {interest_burden}\\n tax_burden: {tax_burden}\\n\")\n",
    "    print(f\"ROE: {ROE}\")\n"
   ]
  },
  {
   "cell_type": "code",
   "execution_count": 129,
   "id": "4b09516a",
   "metadata": {},
   "outputs": [],
   "source": [
    "assets = 200_972_758\n",
    "equity = 176_242_682\n",
    "sales = 187_476_542\n",
    "EBIT = 48_673_412\n",
    "EBT = 48_673_412 + 427_813 #EBT\n",
    "net_income = 36_405_943 "
   ]
  },
  {
   "cell_type": "code",
   "execution_count": 130,
   "id": "fd37f303",
   "metadata": {},
   "outputs": [
    {
     "name": "stdout",
     "output_type": "stream",
     "text": [
      "\n",
      "leverage: 1.1403183140392745\n",
      " asset_turnover: 0.9328455451658777\n",
      " ebit_margin: 0.25962401205373203\n",
      " interest_burden: 1.0087894598389773\n",
      " tax_burden: 0.7414467357993614\n",
      "\n",
      "ROE: 20.66\n"
     ]
    }
   ],
   "source": [
    "calc_roe(assets, equity, sales, EBIT, EBT, net_income, verbose=True)"
   ]
  }
 ],
 "metadata": {
  "kernelspec": {
   "display_name": "Python 3",
   "language": "python",
   "name": "python3"
  },
  "language_info": {
   "codemirror_mode": {
    "name": "ipython",
    "version": 3
   },
   "file_extension": ".py",
   "mimetype": "text/x-python",
   "name": "python",
   "nbconvert_exporter": "python",
   "pygments_lexer": "ipython3",
   "version": "3.8.8"
  }
 },
 "nbformat": 4,
 "nbformat_minor": 5
}
