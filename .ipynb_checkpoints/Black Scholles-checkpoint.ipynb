{
 "cells": [
  {
   "cell_type": "markdown",
   "id": "2ea6ff7d",
   "metadata": {},
   "source": [
    "### Study on fining over/ underpriced stocks based on financials\n",
    "##### Extra information: https://docs.google.com/spreadsheets/d/1QNTKsZywYSn5bMl7-TRkfQqwuiUUXN78gG59xD19GSw/edit?usp=sharing"
   ]
  },
  {
   "cell_type": "code",
   "execution_count": 2,
   "id": "9d457f87",
   "metadata": {},
   "outputs": [],
   "source": [
    "import numpy as np\n",
    "import matplotlib as plt"
   ]
  }
 ],
 "metadata": {
  "kernelspec": {
   "display_name": "Python 3",
   "language": "python",
   "name": "python3"
  },
  "language_info": {
   "codemirror_mode": {
    "name": "ipython",
    "version": 3
   },
   "file_extension": ".py",
   "mimetype": "text/x-python",
   "name": "python",
   "nbconvert_exporter": "python",
   "pygments_lexer": "ipython3",
   "version": "3.8.8"
  }
 },
 "nbformat": 4,
 "nbformat_minor": 5
}
