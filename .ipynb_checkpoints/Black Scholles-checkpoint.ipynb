{
 "cells": [
  {
   "cell_type": "markdown",
   "id": "325f7a54",
   "metadata": {},
   "source": [
    "### Study on fining over/ underpriced stocks based on financials\n",
    "##### Extra information: https://docs.google.com/spreadsheets/d/1QNTKsZywYSn5bMl7-TRkfQqwuiUUXN78gG59xD19GSw/edit?usp=sharing\n",
    "\n",
    "https://codingandfun.com/how-to-calculate-price-book-ratio-with-python/\n",
    "https://medium.datadriveninvestor.com/use-python-to-value-a-stock-automatically-3b520422ab6\n",
    "https://medium.datadriveninvestor.com/use-python-to-show-how-an-overvalued-stock-can-become-undervalued-72bc9d3d35a7"
   ]
  },
  {
   "cell_type": "code",
   "execution_count": 18,
   "id": "3f22b993",
   "metadata": {},
   "outputs": [],
   "source": [
    "import numpy as np\n",
    "import matplotlib as plt\n",
    "import requests\n",
    "from bs4 import BeautifulSoup as bs\n",
    "from urllib.request import urlopen\n",
    "import json"
   ]
  },
  {
   "cell_type": "code",
   "execution_count": 19,
   "id": "cc45f154",
   "metadata": {},
   "outputs": [],
   "source": [
    "API_KEY = \"6719b372009959fdafe2ecc4680e6b91\"\n",
    "APIURL_FINANCIAL = \"https://financialmodelingprep.com/api/v3/income-statement/AAPL?limit=1&apikey=\""
   ]
  },
  {
   "cell_type": "code",
   "execution_count": 17,
   "id": "ea5aa07c",
   "metadata": {},
   "outputs": [],
   "source": [
    "def get_jsonparsed_data(url):\n",
    "    response = urlopen(APIURL_FINANCIAL)\n",
    "    data = response.read().decode(\"utf-8\")\n",
    "    return json.loads(data)"
   ]
  },
  {
   "cell_type": "code",
   "execution_count": 5,
   "id": "6e744be9",
   "metadata": {},
   "outputs": [],
   "source": [
    "# https://www.fool.com/investing/how-to-invest/stocks/price-to-book-ratio/\n",
    "# get P/B ratio\n",
    "# Book value = assets - liabilities\n",
    "# Book value per share = book value / outstanding shares\n",
    "# Price to book  = share price / book value per share\n",
    "def calc_pbr(share_price, book_value_ps):\n",
    "    return share_price / book_value_ps"
   ]
  },
  {
   "cell_type": "code",
   "execution_count": 14,
   "id": "0a81e9f7",
   "metadata": {},
   "outputs": [],
   "source": [
    "# ON semiconductors\n",
    "assets = 8668000\n",
    "liabilities = 5109900\n",
    "outstanding_shares = 579553\n",
    "stock_price = 38.28"
   ]
  },
  {
   "cell_type": "code",
   "execution_count": 15,
   "id": "be993afa",
   "metadata": {},
   "outputs": [
    {
     "name": "stdout",
     "output_type": "stream",
     "text": [
      "6.235150456704421\n"
     ]
    }
   ],
   "source": [
    "book_value = (assets * 1000) - (liabilities * 1000)\n",
    "book_value_ps = book_value / (outstanding_shares * 1000)\n",
    "print(calc_pbr(38.28, book_value_ps))"
   ]
  }
 ],
 "metadata": {
  "kernelspec": {
   "display_name": "Python 3",
   "language": "python",
   "name": "python3"
  },
  "language_info": {
   "codemirror_mode": {
    "name": "ipython",
    "version": 3
   },
   "file_extension": ".py",
   "mimetype": "text/x-python",
   "name": "python",
   "nbconvert_exporter": "python",
   "pygments_lexer": "ipython3",
   "version": "3.8.8"
  }
 },
 "nbformat": 4,
 "nbformat_minor": 5
}
