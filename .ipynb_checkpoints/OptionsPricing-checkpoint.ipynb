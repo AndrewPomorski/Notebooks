{
 "cells": [
  {
   "cell_type": "code",
   "execution_count": 30,
   "id": "0062a0bf",
   "metadata": {},
   "outputs": [
    {
     "data": {
      "text/plain": [
       "'1.23'"
      ]
     },
     "execution_count": 30,
     "metadata": {},
     "output_type": "execute_result"
    }
   ],
   "source": [
    "# http://gouthamanbalaraman.com/blog/american-option-pricing-quantlib-python.html\n",
    "# https://quantlib-python-docs.readthedocs.io/en/latest/instruments/options.html\n",
    "import QuantLib as ql\n",
    "import matplotlib.pyplot as plt\n",
    "import pandas as pd\n",
    "import datetime\n",
    "%matplotlib inline\n",
    "ql.__version__"
   ]
  },
  {
   "cell_type": "code",
   "execution_count": null,
   "id": "7baba7fc",
   "metadata": {},
   "outputs": [],
   "source": [
    "# iv http://options-scanner.com/index.php?page=atm-implied-volatility\n",
    "# https://warrants.ubs.com/en/warrants/warrants_analyzer_performance/code/11051\n",
    "iv = "
   ]
  },
  {
   "cell_type": "code",
   "execution_count": 49,
   "id": "ea1b64b6",
   "metadata": {},
   "outputs": [
    {
     "data": {
      "text/html": [
       "<div>\n",
       "<style scoped>\n",
       "    .dataframe tbody tr th:only-of-type {\n",
       "        vertical-align: middle;\n",
       "    }\n",
       "\n",
       "    .dataframe tbody tr th {\n",
       "        vertical-align: top;\n",
       "    }\n",
       "\n",
       "    .dataframe thead th {\n",
       "        text-align: right;\n",
       "    }\n",
       "</style>\n",
       "<table border=\"1\" class=\"dataframe\">\n",
       "  <thead>\n",
       "    <tr style=\"text-align: right;\">\n",
       "      <th></th>\n",
       "      <th>type</th>\n",
       "      <th>underlying</th>\n",
       "      <th>strike</th>\n",
       "      <th>dividendYield</th>\n",
       "      <th>riskFreeRate</th>\n",
       "      <th>expiry</th>\n",
       "      <th>volatility</th>\n",
       "    </tr>\n",
       "  </thead>\n",
       "  <tbody>\n",
       "    <tr>\n",
       "      <th>0</th>\n",
       "      <td>call</td>\n",
       "      <td>39.55</td>\n",
       "      <td>39</td>\n",
       "      <td>6.48</td>\n",
       "      <td>0.001</td>\n",
       "      <td>29/6/22</td>\n",
       "      <td>17.03</td>\n",
       "    </tr>\n",
       "  </tbody>\n",
       "</table>\n",
       "</div>"
      ],
      "text/plain": [
       "   type  underlying  strike  dividendYield  riskFreeRate   expiry  volatility\n",
       "0  call       39.55      39           6.48         0.001  29/6/22       17.03"
      ]
     },
     "execution_count": 49,
     "metadata": {},
     "output_type": "execute_result"
    }
   ],
   "source": [
    "df = pd.read_csv('./data/0914.options.csv')\n",
    "df.head()"
   ]
  },
  {
   "cell_type": "code",
   "execution_count": 60,
   "id": "e318c944",
   "metadata": {},
   "outputs": [
    {
     "data": {
      "text/plain": [
       "{'type': 'call',\n",
       " 'underlying': 39.55,\n",
       " 'strike': 39,\n",
       " 'dividendYield': 6.48,\n",
       " 'riskFreeRate': 0.001,\n",
       " 'expiry': '29/6/22',\n",
       " 'volatility': 17.03}"
      ]
     },
     "execution_count": 60,
     "metadata": {},
     "output_type": "execute_result"
    }
   ],
   "source": [
    "anhch = df.to_dict(orient='records')[0]\n",
    "anhch"
   ]
  },
  {
   "cell_type": "code",
   "execution_count": 41,
   "id": "b7cefa43",
   "metadata": {},
   "outputs": [],
   "source": [
    "def get_o_type(type):\n",
    "    if (type == 'call'):\n",
    "        return ql.Option.Call\n",
    "    elif (type == 'put'):\n",
    "        return ql.Option.Put"
   ]
  },
  {
   "cell_type": "code",
   "execution_count": 66,
   "id": "fdda2781",
   "metadata": {},
   "outputs": [],
   "source": [
    "def calc_option_price(otype, spot, strike, dyield, rfr, exp, iv):\n",
    "    d,m,y = exp.split('/')\n",
    "    maturity_date = ql.Date(int(d),int(m),int(y) + 2000)\n",
    "    spot_price = spot\n",
    "    strike_price = strike\n",
    "    volatility = iv / 100 # the historical vols or implied vols\n",
    "    dividend_rate = dyield / 100\n",
    "    option_type = get_o_type(otype)\n",
    "    payoff = ql.PlainVanillaPayoff(option_type, strike_price)\n",
    "    print(payoff)"
   ]
  },
  {
   "cell_type": "code",
   "execution_count": 67,
   "id": "97aa0095",
   "metadata": {},
   "outputs": [
    {
     "ename": "NameError",
     "evalue": "name 'diyeld' is not defined",
     "output_type": "error",
     "traceback": [
      "\u001b[0;31m---------------------------------------------------------------------------\u001b[0m",
      "\u001b[0;31mNameError\u001b[0m                                 Traceback (most recent call last)",
      "\u001b[0;32m<ipython-input-67-bed971eafea7>\u001b[0m in \u001b[0;36m<module>\u001b[0;34m\u001b[0m\n\u001b[0;32m----> 1\u001b[0;31m calc_option_price(anhch['type'],\n\u001b[0m\u001b[1;32m      2\u001b[0m                   \u001b[0manhch\u001b[0m\u001b[0;34m[\u001b[0m\u001b[0;34m'underlying'\u001b[0m\u001b[0;34m]\u001b[0m\u001b[0;34m,\u001b[0m\u001b[0;34m\u001b[0m\u001b[0;34m\u001b[0m\u001b[0m\n\u001b[1;32m      3\u001b[0m                   \u001b[0manhch\u001b[0m\u001b[0;34m[\u001b[0m\u001b[0;34m'strike'\u001b[0m\u001b[0;34m]\u001b[0m\u001b[0;34m,\u001b[0m\u001b[0;34m\u001b[0m\u001b[0;34m\u001b[0m\u001b[0m\n\u001b[1;32m      4\u001b[0m                   \u001b[0manhch\u001b[0m\u001b[0;34m[\u001b[0m\u001b[0;34m'dividendYield'\u001b[0m\u001b[0;34m]\u001b[0m\u001b[0;34m,\u001b[0m\u001b[0;34m\u001b[0m\u001b[0;34m\u001b[0m\u001b[0m\n\u001b[1;32m      5\u001b[0m                   \u001b[0manhch\u001b[0m\u001b[0;34m[\u001b[0m\u001b[0;34m'riskFreeRate'\u001b[0m\u001b[0;34m]\u001b[0m\u001b[0;34m,\u001b[0m\u001b[0;34m\u001b[0m\u001b[0;34m\u001b[0m\u001b[0m\n",
      "\u001b[0;32m<ipython-input-66-8f0c64ccc023>\u001b[0m in \u001b[0;36mcalc_option_price\u001b[0;34m(otype, spot, strike, dyield, rfr, exp, iv)\u001b[0m\n\u001b[1;32m      5\u001b[0m     \u001b[0mstrike_price\u001b[0m \u001b[0;34m=\u001b[0m \u001b[0mstrike\u001b[0m\u001b[0;34m\u001b[0m\u001b[0;34m\u001b[0m\u001b[0m\n\u001b[1;32m      6\u001b[0m     \u001b[0mvolatility\u001b[0m \u001b[0;34m=\u001b[0m \u001b[0miv\u001b[0m \u001b[0;34m/\u001b[0m \u001b[0;36m100\u001b[0m \u001b[0;31m# the historical vols or implied vols\u001b[0m\u001b[0;34m\u001b[0m\u001b[0;34m\u001b[0m\u001b[0m\n\u001b[0;32m----> 7\u001b[0;31m     \u001b[0mdividend_rate\u001b[0m \u001b[0;34m=\u001b[0m \u001b[0mdiyeld\u001b[0m \u001b[0;34m/\u001b[0m \u001b[0;36m100\u001b[0m\u001b[0;34m\u001b[0m\u001b[0;34m\u001b[0m\u001b[0m\n\u001b[0m\u001b[1;32m      8\u001b[0m     \u001b[0moption_type\u001b[0m \u001b[0;34m=\u001b[0m \u001b[0mget_o_type\u001b[0m\u001b[0;34m(\u001b[0m\u001b[0motype\u001b[0m\u001b[0;34m)\u001b[0m\u001b[0;34m\u001b[0m\u001b[0;34m\u001b[0m\u001b[0m\n\u001b[1;32m      9\u001b[0m     \u001b[0mpayoff\u001b[0m \u001b[0;34m=\u001b[0m \u001b[0mql\u001b[0m\u001b[0;34m.\u001b[0m\u001b[0mPlainVanillaPayoff\u001b[0m\u001b[0;34m(\u001b[0m\u001b[0moption_type\u001b[0m\u001b[0;34m,\u001b[0m \u001b[0mstrike_price\u001b[0m\u001b[0;34m)\u001b[0m\u001b[0;34m\u001b[0m\u001b[0;34m\u001b[0m\u001b[0m\n",
      "\u001b[0;31mNameError\u001b[0m: name 'diyeld' is not defined"
     ]
    }
   ],
   "source": [
    "calc_option_price(anhch['type'],\n",
    "                  anhch['underlying'],\n",
    "                  anhch['strike'],\n",
    "                  anhch['dividendYield'],\n",
    "                  anhch['riskFreeRate'],\n",
    "                  anhch['expiry'],\n",
    "                  anhch['volatility']\n",
    "                 )"
   ]
  },
  {
   "cell_type": "code",
   "execution_count": null,
   "id": "a49e7a49",
   "metadata": {},
   "outputs": [],
   "source": []
  }
 ],
 "metadata": {
  "kernelspec": {
   "display_name": "Python 3",
   "language": "python",
   "name": "python3"
  },
  "language_info": {
   "codemirror_mode": {
    "name": "ipython",
    "version": 3
   },
   "file_extension": ".py",
   "mimetype": "text/x-python",
   "name": "python",
   "nbconvert_exporter": "python",
   "pygments_lexer": "ipython3",
   "version": "3.8.8"
  }
 },
 "nbformat": 4,
 "nbformat_minor": 5
}
