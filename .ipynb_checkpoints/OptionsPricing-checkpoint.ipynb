{
 "cells": [
  {
   "cell_type": "code",
   "execution_count": 30,
   "id": "2978a1a6",
   "metadata": {},
   "outputs": [
    {
     "data": {
      "text/plain": [
       "'1.23'"
      ]
     },
     "execution_count": 30,
     "metadata": {},
     "output_type": "execute_result"
    }
   ],
   "source": [
    "# http://gouthamanbalaraman.com/blog/american-option-pricing-quantlib-python.html\n",
    "# https://quantlib-python-docs.readthedocs.io/en/latest/instruments/options.html\n",
    "import QuantLib as ql\n",
    "import matplotlib.pyplot as plt\n",
    "import pandas as pd\n",
    "import datetime\n",
    "%matplotlib inline\n",
    "ql.__version__"
   ]
  },
  {
   "cell_type": "code",
   "execution_count": null,
   "id": "54ec3f66",
   "metadata": {},
   "outputs": [],
   "source": []
  },
  {
   "cell_type": "code",
   "execution_count": 19,
   "id": "423659b7",
   "metadata": {},
   "outputs": [
    {
     "data": {
      "text/html": [
       "<div>\n",
       "<style scoped>\n",
       "    .dataframe tbody tr th:only-of-type {\n",
       "        vertical-align: middle;\n",
       "    }\n",
       "\n",
       "    .dataframe tbody tr th {\n",
       "        vertical-align: top;\n",
       "    }\n",
       "\n",
       "    .dataframe thead th {\n",
       "        text-align: right;\n",
       "    }\n",
       "</style>\n",
       "<table border=\"1\" class=\"dataframe\">\n",
       "  <thead>\n",
       "    <tr style=\"text-align: right;\">\n",
       "      <th></th>\n",
       "      <th>Unnamed: 0</th>\n",
       "      <th>type</th>\n",
       "      <th>underlying</th>\n",
       "      <th>strike</th>\n",
       "      <th>dividendYield</th>\n",
       "      <th>riskFreeRate</th>\n",
       "      <th>maturity</th>\n",
       "      <th>volatility</th>\n",
       "      <th>Unnamed: 8</th>\n",
       "    </tr>\n",
       "  </thead>\n",
       "  <tbody>\n",
       "    <tr>\n",
       "      <th>0</th>\n",
       "      <td>NaN</td>\n",
       "      <td>call</td>\n",
       "      <td>39.55</td>\n",
       "      <td>39</td>\n",
       "      <td>6.48</td>\n",
       "      <td>0.001</td>\n",
       "      <td>NaN</td>\n",
       "      <td>NaN</td>\n",
       "      <td>NaN</td>\n",
       "    </tr>\n",
       "  </tbody>\n",
       "</table>\n",
       "</div>"
      ],
      "text/plain": [
       "   Unnamed: 0  type  underlying  strike  dividendYield  riskFreeRate  \\\n",
       "0         NaN  call       39.55      39           6.48         0.001   \n",
       "\n",
       "   maturity  volatility  Unnamed: 8  \n",
       "0       NaN         NaN         NaN  "
      ]
     },
     "execution_count": 19,
     "metadata": {},
     "output_type": "execute_result"
    }
   ],
   "source": [
    "df = pd.read_csv('./data/0914.options.csv')\n",
    "df.head()"
   ]
  },
  {
   "cell_type": "code",
   "execution_count": 20,
   "id": "b0b1d513",
   "metadata": {},
   "outputs": [],
   "source": [
    "def calc_option_price(otype, underlying, strike, dyield, rfr, maturity, iv):\n",
    "    o = ql.AmericanExercise()\n",
    "    pass"
   ]
  },
  {
   "cell_type": "code",
   "execution_count": 28,
   "id": "35e2d457",
   "metadata": {},
   "outputs": [],
   "source": [
    "def expiry(d,m,y):\n",
    "    today = datetime.date.today()\n",
    "    future = datetime.date(y,m,d)\n",
    "    diff = future - today\n",
    "    return diff.days / 365"
   ]
  },
  {
   "cell_type": "code",
   "execution_count": 29,
   "id": "6cb7d102",
   "metadata": {},
   "outputs": [
    {
     "data": {
      "text/plain": [
       "0.9315068493150684"
      ]
     },
     "execution_count": 29,
     "metadata": {},
     "output_type": "execute_result"
    }
   ],
   "source": [
    "expiry(29,6,2022)"
   ]
  },
  {
   "cell_type": "code",
   "execution_count": null,
   "id": "0fd1743a",
   "metadata": {},
   "outputs": [],
   "source": []
  }
 ],
 "metadata": {
  "kernelspec": {
   "display_name": "Python 3",
   "language": "python",
   "name": "python3"
  },
  "language_info": {
   "codemirror_mode": {
    "name": "ipython",
    "version": 3
   },
   "file_extension": ".py",
   "mimetype": "text/x-python",
   "name": "python",
   "nbconvert_exporter": "python",
   "pygments_lexer": "ipython3",
   "version": "3.8.8"
  }
 },
 "nbformat": 4,
 "nbformat_minor": 5
}
