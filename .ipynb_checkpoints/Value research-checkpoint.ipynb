{
 "cells": [
  {
   "cell_type": "markdown",
   "id": "606ed0ea",
   "metadata": {},
   "source": [
    "### Study on fining over/ underpriced stocks based on financials\n",
    "##### Extra information: https://docs.google.com/spreadsheets/d/1QNTKsZywYSn5bMl7-TRkfQqwuiUUXN78gG59xD19GSw/edit?usp=sharing\n",
    "\n",
    "https://codingandfun.com/how-to-calculate-price-book-ratio-with-python/\n",
    "https://medium.datadriveninvestor.com/use-python-to-value-a-stock-automatically-3b520422ab6\n",
    "https://medium.datadriveninvestor.com/use-python-to-show-how-an-overvalued-stock-can-become-undervalued-72bc9d3d35a7\n",
    "\n",
    "### API: \n",
    "https://financialmodelingprep.com"
   ]
  },
  {
   "cell_type": "code",
   "execution_count": 18,
   "id": "334d9d4f",
   "metadata": {},
   "outputs": [],
   "source": [
    "import numpy as np\n",
    "import matplotlib as plt\n",
    "import requests\n",
    "from bs4 import BeautifulSoup as bs\n",
    "from urllib.request import urlopen\n",
    "import json"
   ]
  },
  {
   "cell_type": "code",
   "execution_count": 42,
   "id": "3df6c51d",
   "metadata": {},
   "outputs": [
    {
     "name": "stdout",
     "output_type": "stream",
     "text": [
      "env: API_KEY=\"6719b372009959fdafe2ecc4680e6b91\"\n"
     ]
    }
   ],
   "source": [
    "%env API_KEY = \"6719b372009959fdafe2ecc4680e6b91\"\n",
    "APIURL_FINANCIAL = \"https://financialmodelingprep.com/api/v3/balance-sheet-statement/{}?limit=1&apikey={}\""
   ]
  },
  {
   "cell_type": "code",
   "execution_count": 48,
   "id": "4df71813",
   "metadata": {},
   "outputs": [],
   "source": [
    "def get_jsonparsed_fin_data(ticker):\n",
    "    response = urlopen(APIURL_FINANCIAL.format(ticker, API_KEY))\n",
    "    data = response.read().decode(\"utf-8\")\n",
    "    return json.loads(data)"
   ]
  },
  {
   "cell_type": "code",
   "execution_count": 63,
   "id": "496bbd03",
   "metadata": {},
   "outputs": [],
   "source": [
    "# https://www.fool.com/investing/how-to-invest/stocks/price-to-book-ratio/\n",
    "# get P/B ratio\n",
    "# Book value = assets - liabilities\n",
    "# Book value per share = book value / outstanding shares\n",
    "# Price to book  = share price / book value per share\n",
    "def calc_pbr(share_price, fin_d):\n",
    "    book_value = fin_d[\"assets\"] - fin_d[\"liabilities\"]\n",
    "    book_value_ps = book_value / fin_d[\"outstanding_shares\"]\n",
    "    return (share_price / book_value_ps) * 100"
   ]
  },
  {
   "cell_type": "code",
   "execution_count": null,
   "id": "53a0177a",
   "metadata": {},
   "outputs": [],
   "source": [
    "def calc_pe(share_price, fin_d):\n",
    "    return \"P/E\""
   ]
  },
  {
   "cell_type": "code",
   "execution_count": 64,
   "id": "6e0c3121",
   "metadata": {},
   "outputs": [
    {
     "name": "stdout",
     "output_type": "stream",
     "text": [
      "6.132374019842051\n"
     ]
    }
   ],
   "source": [
    "# ON semiconductors\n",
    "fin_data = get_jsonparsed_fin_data(\"ON\")[0]\n",
    "params = {\n",
    "    \"assets\": fin_data[\"totalAssets\"],\n",
    "    \"liabilities\": fin_data[\"totalLiabilities\"],\n",
    "    \"outstanding_shares\": fin_data[\"commonStock\"]\n",
    "}\n",
    "share_price = 38.28\n",
    "print(calc_pbr(share_price, params))"
   ]
  },
  {
   "cell_type": "code",
   "execution_count": null,
   "id": "74a1217c",
   "metadata": {},
   "outputs": [],
   "source": []
  }
 ],
 "metadata": {
  "kernelspec": {
   "display_name": "Python 3",
   "language": "python",
   "name": "python3"
  },
  "language_info": {
   "codemirror_mode": {
    "name": "ipython",
    "version": 3
   },
   "file_extension": ".py",
   "mimetype": "text/x-python",
   "name": "python",
   "nbconvert_exporter": "python",
   "pygments_lexer": "ipython3",
   "version": "3.8.8"
  }
 },
 "nbformat": 4,
 "nbformat_minor": 5
}
