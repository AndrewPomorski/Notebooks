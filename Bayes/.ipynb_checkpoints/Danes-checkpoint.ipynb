{
 "cells": [
  {
   "cell_type": "code",
   "execution_count": 2,
   "id": "11b8228a",
   "metadata": {},
   "outputs": [],
   "source": [
    "import pandas as pd\n",
    "import numpy as np"
   ]
  },
  {
   "cell_type": "code",
   "execution_count": 4,
   "id": "114df761",
   "metadata": {},
   "outputs": [],
   "source": [
    "# number of random draws from prior:\n",
    "n_draws = 10000"
   ]
  },
  {
   "cell_type": "code",
   "execution_count": 69,
   "id": "9c02a661",
   "metadata": {},
   "outputs": [
    {
     "data": {
      "text/plain": [
       "<AxesSubplot:>"
      ]
     },
     "execution_count": 69,
     "metadata": {},
     "output_type": "execute_result"
    },
    {
     "data": {
      "image/png": "[encoded data removed]",
      "text/plain": [
       "<Figure size 432x288 with 1 Axes>"
      ]
     },
     "metadata": {
      "needs_background": "light"
     },
     "output_type": "display_data"
    }
   ],
   "source": [
    "# Sample n_draws into pandas Series\n",
    "prior = pd.Series(data=np.random.uniform(0, 1, size = n_draws))\n",
    "prior.hist()"
   ]
  },
  {
   "cell_type": "code",
   "execution_count": 89,
   "id": "c617c68e",
   "metadata": {},
   "outputs": [],
   "source": [
    "def gen_model(prob):\n",
    "    return(np.random.binomial(16, prob))\n",
    "\n",
    "subscribers = list()\n",
    "\n",
    "for p in prior:\n",
    "    subscribers.append(gen_model(p))"
   ]
  },
  {
   "cell_type": "code",
   "execution_count": 91,
   "id": "358e2a5a",
   "metadata": {},
   "outputs": [
    {
     "data": {
      "text/plain": [
       "0       0.679673\n",
       "1       0.209533\n",
       "2       0.351298\n",
       "3       0.252428\n",
       "4       0.317416\n",
       "          ...   \n",
       "9995    0.718209\n",
       "9996    0.302998\n",
       "9997    0.979648\n",
       "9998    0.838245\n",
       "9999    0.335336\n",
       "Length: 10000, dtype: float64"
      ]
     },
     "execution_count": 91,
     "metadata": {},
     "output_type": "execute_result"
    }
   ],
   "source": [
    "prior"
   ]
  },
  {
   "cell_type": "code",
   "execution_count": 84,
   "id": "7d677a75",
   "metadata": {},
   "outputs": [
    {
     "name": "stdout",
     "output_type": "stream",
     "text": [
      "[]\n"
     ]
    }
   ],
   "source": [
    "post_rate = list(filter(lambda value: value == 16, prior))\n",
    "print(post_rate)"
   ]
  }
 ],
 "metadata": {
  "kernelspec": {
   "display_name": "Python 3",
   "language": "python",
   "name": "python3"
  },
  "language_info": {
   "codemirror_mode": {
    "name": "ipython",
    "version": 3
   },
   "file_extension": ".py",
   "mimetype": "text/x-python",
   "name": "python",
   "nbconvert_exporter": "python",
   "pygments_lexer": "ipython3",
   "version": "3.8.8"
  }
 },
 "nbformat": 4,
 "nbformat_minor": 5
}
