{
 "cells": [
  {
   "cell_type": "code",
   "execution_count": null,
   "id": "5f28ee7d",
   "metadata": {},
   "outputs": [],
   "source": [
    "print(\"Current working dir\")"
   ]
  },
  {
   "cell_type": "code",
   "execution_count": null,
   "id": "8347ba0d",
   "metadata": {},
   "outputs": [],
   "source": []
  }
 ],
 "metadata": {
  "kernelspec": {
   "display_name": "R",
   "language": "R",
   "name": "ir"
  }
 },
 "nbformat": 4,
 "nbformat_minor": 5
}
