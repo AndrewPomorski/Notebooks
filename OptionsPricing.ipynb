{
 "cells": [
  {
   "cell_type": "code",
   "execution_count": 30,
   "id": "8abc5479",
   "metadata": {},
   "outputs": [
    {
     "data": {
      "text/plain": [
       "'1.23'"
      ]
     },
     "execution_count": 30,
     "metadata": {},
     "output_type": "execute_result"
    }
   ],
   "source": [
    "# http://gouthamanbalaraman.com/blog/american-option-pricing-quantlib-python.html\n",
    "# https://quantlib-python-docs.readthedocs.io/en/latest/instruments/options.html\n",
    "import QuantLib as ql\n",
    "import matplotlib.pyplot as plt\n",
    "import pandas as pd\n",
    "import datetime\n",
    "%matplotlib inline\n",
    "ql.__version__"
   ]
  },
  {
   "cell_type": "code",
   "execution_count": null,
   "id": "b8c459b8",
   "metadata": {},
   "outputs": [],
   "source": [
    "# iv http://options-scanner.com/index.php?page=atm-implied-volatility\n",
    "# https://warrants.ubs.com/en/warrants/warrants_analyzer_performance/code/11051\n",
    "iv = "
   ]
  },
  {
   "cell_type": "code",
   "execution_count": 81,
   "id": "84652cf5",
   "metadata": {},
   "outputs": [
    {
     "data": {
      "text/html": [
       "<div>\n",
       "<style scoped>\n",
       "    .dataframe tbody tr th:only-of-type {\n",
       "        vertical-align: middle;\n",
       "    }\n",
       "\n",
       "    .dataframe tbody tr th {\n",
       "        vertical-align: top;\n",
       "    }\n",
       "\n",
       "    .dataframe thead th {\n",
       "        text-align: right;\n",
       "    }\n",
       "</style>\n",
       "<table border=\"1\" class=\"dataframe\">\n",
       "  <thead>\n",
       "    <tr style=\"text-align: right;\">\n",
       "      <th></th>\n",
       "      <th>type</th>\n",
       "      <th>underlying</th>\n",
       "      <th>strike</th>\n",
       "      <th>dividendYield</th>\n",
       "      <th>riskFreeRate</th>\n",
       "      <th>expiry</th>\n",
       "      <th>volatility</th>\n",
       "    </tr>\n",
       "  </thead>\n",
       "  <tbody>\n",
       "    <tr>\n",
       "      <th>0</th>\n",
       "      <td>call</td>\n",
       "      <td>39.55</td>\n",
       "      <td>39</td>\n",
       "      <td>6.48</td>\n",
       "      <td>0.001</td>\n",
       "      <td>29/6/22</td>\n",
       "      <td>23</td>\n",
       "    </tr>\n",
       "  </tbody>\n",
       "</table>\n",
       "</div>"
      ],
      "text/plain": [
       "   type  underlying  strike  dividendYield  riskFreeRate   expiry  volatility\n",
       "0  call       39.55      39           6.48         0.001  29/6/22          23"
      ]
     },
     "execution_count": 81,
     "metadata": {},
     "output_type": "execute_result"
    }
   ],
   "source": [
    "df = pd.read_csv('./data/0914.options.csv')\n",
    "df.head()"
   ]
  },
  {
   "cell_type": "code",
   "execution_count": 82,
   "id": "1a186350",
   "metadata": {},
   "outputs": [
    {
     "data": {
      "text/plain": [
       "{'type': 'call',\n",
       " 'underlying': 39.55,\n",
       " 'strike': 39,\n",
       " 'dividendYield': 6.48,\n",
       " 'riskFreeRate': 0.001,\n",
       " 'expiry': '29/6/22',\n",
       " 'volatility': 23}"
      ]
     },
     "execution_count": 82,
     "metadata": {},
     "output_type": "execute_result"
    }
   ],
   "source": [
    "anhch = df.to_dict(orient='records')[0]\n",
    "anhch"
   ]
  },
  {
   "cell_type": "code",
   "execution_count": 83,
   "id": "7e54147b",
   "metadata": {},
   "outputs": [],
   "source": [
    "def get_o_type(type):\n",
    "    if (type == 'call'):\n",
    "        return ql.Option.Call\n",
    "    elif (type == 'put'):\n",
    "        return ql.Option.Put"
   ]
  },
  {
   "cell_type": "code",
   "execution_count": 95,
   "id": "0b7f1b0f",
   "metadata": {},
   "outputs": [],
   "source": [
    "def get_payoff_settl(cp, strike, calc_date):\n",
    "    payoff = ql.PlainVanillaPayoff(cp, strike)\n",
    "    settlement = calc_date\n",
    "    return payoff, settlement"
   ]
  },
  {
   "cell_type": "code",
   "execution_count": 100,
   "id": "8c6cde26",
   "metadata": {},
   "outputs": [],
   "source": [
    "def build_black_scholes():\n",
    "    pass"
   ]
  },
  {
   "cell_type": "code",
   "execution_count": 101,
   "id": "4199893c",
   "metadata": {},
   "outputs": [],
   "source": [
    "def calc_option_price(otype, spot, strike, dyield, rfr, exp, iv):\n",
    "    risk_free_rate = rfr\n",
    "    day_count = ql.Actual365Fixed()\n",
    "    calendar = ql.UnitedStates()\n",
    "    calculation_date = ql.Date(8, 5, 2015)\n",
    "    ql.Settings.instance().evaluationDate = calculation_date\n",
    "    d,m,y = exp.split('/')\n",
    "    maturity_date = ql.Date(int(d),int(m),int(y) + 2000)\n",
    "    spot_price = spot\n",
    "    strike_price = strike\n",
    "    volatility = iv / 100 # the historical vols or implied vols\n",
    "    dividend_rate = dyield / 100\n",
    "    option_type = get_o_type(otype)\n",
    "    payoff = ql.PlainVanillaPayoff(option_type, strike_price)\n",
    "    payoff, settl = get_payoff_settl(option_type, strike, calculation_date)\n",
    "    am_exercise = ql.AmericanExercise(settl, maturity_date)"
   ]
  },
  {
   "cell_type": "code",
   "execution_count": 102,
   "id": "046e46a0",
   "metadata": {},
   "outputs": [],
   "source": [
    "calc_option_price(anhch['type'],\n",
    "                  anhch['underlying'],\n",
    "                  anhch['strike'],\n",
    "                  anhch['dividendYield'],\n",
    "                  anhch['riskFreeRate'],\n",
    "                  anhch['expiry'],\n",
    "                  anhch['volatility']\n",
    "                 )"
   ]
  }
 ],
 "metadata": {
  "kernelspec": {
   "display_name": "Python 3",
   "language": "python",
   "name": "python3"
  },
  "language_info": {
   "codemirror_mode": {
    "name": "ipython",
    "version": 3
   },
   "file_extension": ".py",
   "mimetype": "text/x-python",
   "name": "python",
   "nbconvert_exporter": "python",
   "pygments_lexer": "ipython3",
   "version": "3.8.8"
  }
 },
 "nbformat": 4,
 "nbformat_minor": 5
}
