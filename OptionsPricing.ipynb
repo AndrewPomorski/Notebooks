{
 "cells": [
  {
   "cell_type": "code",
   "execution_count": 1,
   "id": "752e3f3c",
   "metadata": {},
   "outputs": [
    {
     "data": {
      "text/plain": [
       "'1.23'"
      ]
     },
     "execution_count": 1,
     "metadata": {},
     "output_type": "execute_result"
    }
   ],
   "source": [
    "# http://gouthamanbalaraman.com/blog/american-option-pricing-quantlib-python.html\n",
    "import QuantLib as ql\n",
    "import matplotlib.pyplot as plt\n",
    "import pandas as pd\n",
    "import datetime\n",
    "%matplotlib inline\n",
    "ql.__version__"
   ]
  },
  {
   "cell_type": "code",
   "execution_count": 98,
   "id": "cbd8100e",
   "metadata": {},
   "outputs": [],
   "source": [
    "# Related:\n",
    "# iv http://options-scanner.com/index.php?page=atm-implied-volatility\n",
    "# https://warrants.ubs.com/en/warrants/warrants_analyzer_performance/code/11051\n",
    "# https://quantlib-python-docs.readthedocs.io/en/latest/instruments/options.html\n",
    "# https://www.wiley.com/en-gb/Option+Pricing+and+Estimation+of+Financial+Models+with+R-p-9780470745847\n",
    "# https://quant.stackexchange.com/questions/33964/is-there-any-useful-links-for-option-pricing-american-asian-european-using\n",
    "# https://leanpub.com/quantlibpythoncookbook"
   ]
  },
  {
   "cell_type": "code",
   "execution_count": 3,
   "id": "65696895",
   "metadata": {},
   "outputs": [
    {
     "data": {
      "text/html": [
       "<div>\n",
       "<style scoped>\n",
       "    .dataframe tbody tr th:only-of-type {\n",
       "        vertical-align: middle;\n",
       "    }\n",
       "\n",
       "    .dataframe tbody tr th {\n",
       "        vertical-align: top;\n",
       "    }\n",
       "\n",
       "    .dataframe thead th {\n",
       "        text-align: right;\n",
       "    }\n",
       "</style>\n",
       "<table border=\"1\" class=\"dataframe\">\n",
       "  <thead>\n",
       "    <tr style=\"text-align: right;\">\n",
       "      <th></th>\n",
       "      <th>type</th>\n",
       "      <th>underlying</th>\n",
       "      <th>strike</th>\n",
       "      <th>dividendYield</th>\n",
       "      <th>riskFreeRate</th>\n",
       "      <th>expiry</th>\n",
       "      <th>volatility</th>\n",
       "    </tr>\n",
       "  </thead>\n",
       "  <tbody>\n",
       "    <tr>\n",
       "      <th>0</th>\n",
       "      <td>call</td>\n",
       "      <td>39.55</td>\n",
       "      <td>39</td>\n",
       "      <td>6.48</td>\n",
       "      <td>0.001</td>\n",
       "      <td>29/6/22</td>\n",
       "      <td>23</td>\n",
       "    </tr>\n",
       "  </tbody>\n",
       "</table>\n",
       "</div>"
      ],
      "text/plain": [
       "   type  underlying  strike  dividendYield  riskFreeRate   expiry  volatility\n",
       "0  call       39.55      39           6.48         0.001  29/6/22          23"
      ]
     },
     "execution_count": 3,
     "metadata": {},
     "output_type": "execute_result"
    }
   ],
   "source": [
    "df = pd.read_csv('./data/0914.options.csv')\n",
    "df.head()"
   ]
  },
  {
   "cell_type": "code",
   "execution_count": 30,
   "id": "c46a5d92",
   "metadata": {},
   "outputs": [
    {
     "data": {
      "text/plain": [
       "{'type': 'call',\n",
       " 'underlying': 39.55,\n",
       " 'strike': 39,\n",
       " 'dividendYield': 6.48,\n",
       " 'riskFreeRate': 0.001,\n",
       " 'expiry': '29/6/22',\n",
       " 'volatility': 23}"
      ]
     },
     "execution_count": 30,
     "metadata": {},
     "output_type": "execute_result"
    }
   ],
   "source": [
    "dfd = df.to_dict(orient='records')[0]\n",
    "dfd"
   ]
  },
  {
   "cell_type": "code",
   "execution_count": 5,
   "id": "acf78e5b",
   "metadata": {},
   "outputs": [],
   "source": [
    "def get_o_type(type):\n",
    "    if (type == 'call'):\n",
    "        return ql.Option.Call\n",
    "    elif (type == 'put'):\n",
    "        return ql.Option.Put"
   ]
  },
  {
   "cell_type": "code",
   "execution_count": 6,
   "id": "755047f6",
   "metadata": {},
   "outputs": [],
   "source": [
    "def get_payoff_settl(cp, strike, calc_date):\n",
    "    payoff = ql.PlainVanillaPayoff(cp, strike)\n",
    "    settlement = calc_date\n",
    "    return payoff, settlement"
   ]
  },
  {
   "cell_type": "code",
   "execution_count": 212,
   "id": "3e7cb080",
   "metadata": {},
   "outputs": [],
   "source": [
    "def get_black_scholes_proc(**a):\n",
    "    # day_count, cal is different\n",
    "    spot_handle = ql.QuoteHandle(ql.SimpleQuote(a['spot']))\n",
    "    flat_ts = ql.YieldTermStructureHandle(ql.FlatForward(a['calc_date'], a['rfr'], a['day_count']))\n",
    "    dyield = ql.YieldTermStructureHandle(ql.FlatForward(a['calc_date'], a['div_rate'], a['day_count']))\n",
    "    flat_vol_ts = ql.BlackVolTermStructureHandle(ql.BlackConstantVol(a['calc_date'], a['cal'], a['iv'], a['day_count']))\n",
    "    bsmp = ql.BlackScholesMertonProcess(spot_handle, dyield, flat_ts, flat_vol_ts)\n",
    "    return bsmp"
   ]
  },
  {
   "cell_type": "code",
   "execution_count": 218,
   "id": "8a10abec",
   "metadata": {},
   "outputs": [],
   "source": [
    "def get_option_price(otype, spot, strike, dyield, rfr, exp, iv):\n",
    "    risk_free_rate = rfr\n",
    "    day_count = ql.Actual365Fixed()\n",
    "    calendar = ql.UnitedStates()\n",
    "    now = datetime.datetime.now()\n",
    "    calculation_date = ql.Date(now.day, now.month, now.year)\n",
    "    ql.Settings.instance().evaluationDate = calculation_date\n",
    "    d,m,y = exp.split('/')\n",
    "    # probably fix date handling\n",
    "    maturity_date = ql.Date(int(d),int(m),int(y) + 2000)\n",
    "    spot_price = spot\n",
    "    strike_price = strike\n",
    "    volatility = iv / 100 # the historical vols or iv\n",
    "    dividend_rate = dyield / 100\n",
    "    option_type = get_o_type(otype)\n",
    "    payoff = ql.PlainVanillaPayoff(option_type, strike_price)\n",
    "    payoff, settl = get_payoff_settl(option_type, strike, calculation_date)\n",
    "    am_exercise = ql.AmericanExercise(settl, maturity_date)\n",
    "    am_option = ql.VanillaOption(payoff, am_exercise)\n",
    "    bsm_process = get_black_scholes_proc(\n",
    "        spot=spot,\n",
    "        calc_date=calculation_date,\n",
    "        rfr = rfr,\n",
    "        div_rate=dividend_rate,\n",
    "        cal=calendar,\n",
    "        iv=volatility,\n",
    "        day_count=day_count\n",
    "    )\n",
    "    steps = 200\n",
    "    binomial_engine = ql.BinomialVanillaEngine(bsm_process, \"crr\", steps)\n",
    "    am_option.setPricingEngine(binomial_engine)\n",
    "    print('am NPV: ', am_option.NPV())\n",
    "    return am_option, bsm_process"
   ]
  },
  {
   "cell_type": "code",
   "execution_count": 219,
   "id": "1ec40fa0",
   "metadata": {},
   "outputs": [],
   "source": [
    "def binomial_price(option, bsm_process, steps):\n",
    "    binomial_engine = ql.BinomialVanillaEngine(bsm_process, \"crr\", steps)\n",
    "    option.setPricingEngine(binomial_engine)\n",
    "    return option.NPV()"
   ]
  },
  {
   "cell_type": "code",
   "execution_count": 220,
   "id": "0a9d6c79",
   "metadata": {},
   "outputs": [
    {
     "name": "stdout",
     "output_type": "stream",
     "text": [
      "am NPV:  2.8516240245326188\n"
     ]
    }
   ],
   "source": [
    "american_option, bsm_process = get_option_price(dfd['type'],\n",
    "                  dfd['underlying'],\n",
    "                  dfd['strike'],\n",
    "                  dfd['dividendYield'],\n",
    "                  dfd['riskFreeRate'],\n",
    "                  dfd['expiry'],\n",
    "                  dfd['volatility'])\n",
    "steps = range(5, 200, 1)\n",
    "am_prices = [binomial_price(american_option, bsm_process, step) for step in steps]"
   ]
  },
  {
   "cell_type": "code",
   "execution_count": 231,
   "id": "459318a1",
   "metadata": {},
   "outputs": [
    {
     "data": {
      "text/plain": [
       "<matplotlib.legend.Legend at 0x7f92a94e2ee0>"
      ]
     },
     "execution_count": 231,
     "metadata": {},
     "output_type": "execute_result"
    },
    {
     "data": {
      "image/png": "[encoded data removed]",
      "text/plain": [
       "<Figure size 432x288 with 1 Axes>"
      ]
     },
     "metadata": {
      "needs_background": "light"
     },
     "output_type": "display_data"
    }
   ],
   "source": [
    "plt.plot(steps, am_prices, label=\"American Option\", lw=2, alpha=0.6)\n",
    "plt.xlabel(\"Steps\")\n",
    "plt.ylabel(\"Price\")\n",
    "plt.title(\"Binomial Tree Price For Varying Steps\")\n",
    "plt.legend()"
   ]
  }
 ],
 "metadata": {
  "kernelspec": {
   "display_name": "Python 3",
   "language": "python",
   "name": "python3"
  },
  "language_info": {
   "codemirror_mode": {
    "name": "ipython",
    "version": 3
   },
   "file_extension": ".py",
   "mimetype": "text/x-python",
   "name": "python",
   "nbconvert_exporter": "python",
   "pygments_lexer": "ipython3",
   "version": "3.8.8"
  }
 },
 "nbformat": 4,
 "nbformat_minor": 5
}
